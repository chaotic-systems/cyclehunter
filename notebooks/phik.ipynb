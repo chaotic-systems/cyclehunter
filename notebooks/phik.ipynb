{
 "cells": [
  {
   "cell_type": "code",
   "execution_count": 1,
   "id": "567597fd",
   "metadata": {},
   "outputs": [],
   "source": [
    "import os\n",
    "import cyclehunter\n",
    "from cyclehunter import *\n",
    "import numpy as np\n",
    "from scipy.optimize import minimize\n",
    "from scipy.linalg import eig\n",
    "import matplotlib.pyplot as plt\n",
    "import time"
   ]
  },
  {
   "cell_type": "markdown",
   "id": "f038a323",
   "metadata": {},
   "source": [
    "# PhiK Class\n",
    "\n",
    "Class instantiation expects $n$, $k$, and $\\mu^2$.\n",
    "\n",
    "k is now reflective of the actual k in the equation name; previously it was the exponent in the E-L equations\n",
    "Phi-4 is now $k=4$ as it should be"
   ]
  },
  {
   "cell_type": "code",
   "execution_count": 2,
   "id": "134323c5",
   "metadata": {},
   "outputs": [],
   "source": [
    "n = 3\n",
    "k = 4\n",
    "musqr = 5"
   ]
  },
  {
   "cell_type": "markdown",
   "id": "ab9739b9",
   "metadata": {},
   "source": [
    "Descriptions/the documentation can be read for any function by typing '?' after the function/method/class"
   ]
  },
  {
   "cell_type": "code",
   "execution_count": 3,
   "id": "adbe0b76",
   "metadata": {},
   "outputs": [],
   "source": [
    "PhiK?"
   ]
  },
  {
   "cell_type": "markdown",
   "id": "bfd99d1e",
   "metadata": {},
   "source": [
    "Relevant attributes are `n`, `k`, `musqr`, `states`, `basis`"
   ]
  },
  {
   "cell_type": "code",
   "execution_count": 4,
   "id": "12f16b72",
   "metadata": {},
   "outputs": [],
   "source": [
    "x = PhiK(n, k, musqr)"
   ]
  },
  {
   "cell_type": "markdown",
   "id": "99ac66eb",
   "metadata": {},
   "source": [
    "The `states` are empty until we populate them via `generate_states`; Here is how you can populate the instance with all possible cycles"
   ]
  },
  {
   "cell_type": "code",
   "execution_count": 5,
   "id": "5c15726a",
   "metadata": {},
   "outputs": [],
   "source": [
    "x.generate_states?"
   ]
  },
  {
   "cell_type": "code",
   "execution_count": 6,
   "id": "2ed8fe52",
   "metadata": {},
   "outputs": [],
   "source": [
    "x = x.generate_states()"
   ]
  },
  {
   "cell_type": "code",
   "execution_count": 7,
   "id": "bf791909",
   "metadata": {},
   "outputs": [
    {
     "name": "stdout",
     "output_type": "stream",
     "text": [
      "<class 'numpy.ndarray'> (27, 3)\n"
     ]
    }
   ],
   "source": [
    "print(type(x.states), x.states.shape)"
   ]
  },
  {
   "cell_type": "markdown",
   "id": "3cba9075",
   "metadata": {},
   "source": [
    "Prime cycles are default, but can be set to False and then reproduced by calling `prime_cycles` function. This functionality gives a higher degree of control over the types of symmetries that the cycles have. "
   ]
  },
  {
   "cell_type": "code",
   "execution_count": 8,
   "id": "e9a9e291",
   "metadata": {},
   "outputs": [],
   "source": [
    "x = x.prime_cycles()"
   ]
  },
  {
   "cell_type": "code",
   "execution_count": 9,
   "id": "b7574af2",
   "metadata": {},
   "outputs": [
    {
     "name": "stdout",
     "output_type": "stream",
     "text": [
      "There are 8 states after quotienting repeats and cyclic permutations\n"
     ]
    },
    {
     "data": {
      "text/plain": [
       "array([[-1, -1,  0],\n",
       "       [-1, -1,  1],\n",
       "       [ 0, -1,  0],\n",
       "       [ 0, -1,  1],\n",
       "       [ 1, -1,  0],\n",
       "       [ 1, -1,  1],\n",
       "       [ 0,  0,  1],\n",
       "       [ 1,  0,  1]])"
      ]
     },
     "execution_count": 9,
     "metadata": {},
     "output_type": "execute_result"
    }
   ],
   "source": [
    "print(f'There are {x.states.shape[0]} states after quotienting repeats and cyclic permutations')\n",
    "x.states"
   ]
  },
  {
   "cell_type": "markdown",
   "id": "c6949081",
   "metadata": {},
   "source": [
    "The numerical optimization routine is built into the class as opposed to be a separate module like it is in `orbithunter`;\n",
    "this package's sister package."
   ]
  },
  {
   "cell_type": "code",
   "execution_count": 10,
   "id": "6c31e45b",
   "metadata": {},
   "outputs": [],
   "source": [
    "x_converged = x.hunt()"
   ]
  },
  {
   "cell_type": "markdown",
   "id": "91630437",
   "metadata": {},
   "source": [
    "Before after comparison"
   ]
  },
  {
   "cell_type": "code",
   "execution_count": 11,
   "id": "6d217c9d",
   "metadata": {},
   "outputs": [
    {
     "data": {
      "text/plain": [
       "array([[-1, -1,  0],\n",
       "       [-1, -1,  1],\n",
       "       [ 0, -1,  0],\n",
       "       [ 0, -1,  1],\n",
       "       [ 1, -1,  0],\n",
       "       [ 1, -1,  1],\n",
       "       [ 0,  0,  1],\n",
       "       [ 1,  0,  1]])"
      ]
     },
     "execution_count": 11,
     "metadata": {},
     "output_type": "execute_result"
    }
   ],
   "source": [
    "x.states "
   ]
  },
  {
   "cell_type": "code",
   "execution_count": 12,
   "id": "13e6b328",
   "metadata": {},
   "outputs": [
    {
     "data": {
      "text/plain": [
       "array([[-1.06677926, -1.06677926, -0.33060463],\n",
       "       [-1.19266331, -1.19266331,  1.32651313],\n",
       "       [-0.19883715, -1.1537165 , -0.19883715],\n",
       "       [ 0.        , -1.26491094,  1.26491094],\n",
       "       [ 1.26491094, -1.26491094,  0.        ],\n",
       "       [ 1.19266331, -1.32651313,  1.19266331],\n",
       "       [ 0.19883715,  0.19883715,  1.1537165 ],\n",
       "       [ 1.06677926,  0.33060463,  1.06677926]])"
      ]
     },
     "execution_count": 12,
     "metadata": {},
     "output_type": "execute_result"
    }
   ],
   "source": [
    "x_converged.states "
   ]
  },
  {
   "cell_type": "markdown",
   "id": "7ecb9b82",
   "metadata": {},
   "source": [
    "Technically, I should be returning the optimization result to ensure convergence, however the two functions for the\n",
    "equations of motion/cost function and the gradient of the cost function are: `eqn`, `cost`, `costgrad`."
   ]
  },
  {
   "cell_type": "markdown",
   "id": "1b36c740",
   "metadata": {},
   "source": [
    "Cost is the $L_2$ norm squared of the governing equations `1/2 F^2`"
   ]
  },
  {
   "cell_type": "code",
   "execution_count": 13,
   "id": "66000293",
   "metadata": {},
   "outputs": [
    {
     "name": "stdout",
     "output_type": "stream",
     "text": [
      "The original cost function value for all cycles was 53.99999999999999\n",
      "After running the optimization routine via the hunt function, it is 1.1815044184388797e-10\n"
     ]
    }
   ],
   "source": [
    "print(f'The original cost function value for all cycles was {x.cost()}')\n",
    "print(f'After running the optimization routine via the hunt function, it is {x_converged.cost()}')"
   ]
  },
  {
   "cell_type": "markdown",
   "id": "6a939202",
   "metadata": {},
   "source": [
    "Cost functional `1/2 F^2` is a scalar valued function; therefore the gradient is a vector, not a matrix."
   ]
  },
  {
   "cell_type": "code",
   "execution_count": 14,
   "id": "812b030e",
   "metadata": {},
   "outputs": [
    {
     "data": {
      "text/plain": [
       "array([ 1.08567307e-05,  1.08567307e-05,  5.02395572e-06, -3.23339051e-05,\n",
       "       -3.23339051e-05, -1.97369425e-04,  1.19628119e-06,  2.12130064e-05,\n",
       "        1.19628119e-06,  0.00000000e+00,  3.26107890e-05, -3.26107890e-05,\n",
       "       -3.26107890e-05,  3.26107890e-05,  0.00000000e+00,  3.23339051e-05,\n",
       "        1.97369425e-04,  3.23339051e-05, -1.19628119e-06, -1.19628119e-06,\n",
       "       -2.12130064e-05, -1.08567307e-05, -5.02395572e-06, -1.08567307e-05])"
      ]
     },
     "execution_count": 14,
     "metadata": {},
     "output_type": "execute_result"
    }
   ],
   "source": [
    "x_converged.costgrad()"
   ]
  },
  {
   "cell_type": "markdown",
   "id": "c6da4085",
   "metadata": {},
   "source": [
    "Because it is the squared loss, we can expect the residual of each individual site to be on the order of the square root of the residual. "
   ]
  },
  {
   "cell_type": "code",
   "execution_count": 15,
   "id": "59f6daa0",
   "metadata": {},
   "outputs": [
    {
     "data": {
      "text/plain": [
       "array([[-1.03063594e-06, -1.03063594e-06,  5.52687077e-07],\n",
       "       [ 1.45450969e-06,  1.45450969e-06,  1.00265457e-05],\n",
       "       [-7.90793613e-08, -1.62385988e-06, -7.90793613e-08],\n",
       "       [ 0.00000000e+00, -2.03817493e-06,  2.03817493e-06],\n",
       "       [ 2.03817493e-06, -2.03817493e-06,  0.00000000e+00],\n",
       "       [-1.45450969e-06, -1.00265457e-05, -1.45450969e-06],\n",
       "       [ 7.90793613e-08,  7.90793613e-08,  1.62385988e-06],\n",
       "       [ 1.03063594e-06, -5.52687077e-07,  1.03063594e-06]])"
      ]
     },
     "execution_count": 15,
     "metadata": {},
     "output_type": "execute_result"
    }
   ],
   "source": [
    "x_converged.eqn()"
   ]
  },
  {
   "cell_type": "code",
   "execution_count": 16,
   "id": "e2e43cd1",
   "metadata": {},
   "outputs": [
    {
     "data": {
      "image/png": "[encoded data removed]",
      "text/plain": [
       "<Figure size 432x288 with 1 Axes>"
      ]
     },
     "metadata": {
      "needs_background": "light"
     },
     "output_type": "display_data"
    }
   ],
   "source": [
    "fig, ax = plt.subplots()\n",
    "ax.scatter(x.states[:, 0], x.states[:, 1])\n",
    "ax.set_xlim([-2, 2])\n",
    "ax.set_ylim([-2, 2])\n",
    "ax.grid()"
   ]
  },
  {
   "cell_type": "code",
   "execution_count": 17,
   "id": "41c5f677",
   "metadata": {},
   "outputs": [
    {
     "data": {
      "image/png": "[encoded data removed]",
      "text/plain": [
       "<Figure size 432x288 with 1 Axes>"
      ]
     },
     "metadata": {
      "needs_background": "light"
     },
     "output_type": "display_data"
    }
   ],
   "source": [
    "fig, ax = plt.subplots()\n",
    "ax.scatter(x_converged.states[:, 0], x_converged.states[:, 1])\n",
    "ax.set_xlim([-2, 2])\n",
    "ax.set_ylim([-2, 2])\n",
    "ax.grid()"
   ]
  }
 ],
 "metadata": {
  "kernelspec": {
   "display_name": "Python 3 (ipykernel)",
   "language": "python",
   "name": "python3"
  },
  "language_info": {
   "codemirror_mode": {
    "name": "ipython",
    "version": 3
   },
   "file_extension": ".py",
   "mimetype": "text/x-python",
   "name": "python",
   "nbconvert_exporter": "python",
   "pygments_lexer": "ipython3",
   "version": "3.10.4"
  }
 },
 "nbformat": 4,
 "nbformat_minor": 5
}

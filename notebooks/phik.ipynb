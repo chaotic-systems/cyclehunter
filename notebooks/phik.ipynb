{
 "cells": [
  {
   "cell_type": "code",
   "execution_count": 1,
   "id": "567597fd",
   "metadata": {},
   "outputs": [],
   "source": [
    "import os\n",
    "os.chdir('C:/Users/gudo/Desktop/cyclehunter/')\n",
    "import cyclehunter\n",
    "from cyclehunter import *\n",
    "import numpy as np\n",
    "from scipy.optimize import minimize\n",
    "from scipy.linalg import eig\n",
    "import matplotlib.pyplot as plt\n",
    "import time"
   ]
  },
  {
   "cell_type": "markdown",
   "id": "f038a323",
   "metadata": {},
   "source": [
    "# PhiK Class\n",
    "\n",
    "Most relevant methods are `generate_states`, `prime_orbits` and `hunt`.\n",
    "(I need to change from orbits to cycles oops..)\n",
    "\n",
    "Class instantiation expects $n$, $k$, and $\\mu^2$."
   ]
  },
  {
   "cell_type": "code",
   "execution_count": 2,
   "id": "12f16b72",
   "metadata": {},
   "outputs": [],
   "source": [
    "n = 3\n",
    "k = 3\n",
    "musqr = 5\n",
    "x = PhiK(n, k, musqr)\n"
   ]
  },
  {
   "cell_type": "markdown",
   "id": "99ac66eb",
   "metadata": {},
   "source": [
    "Relevant attributes are `n`, `k`, `musqr`, `states`. The `states` are empty until we populate them via `generate_states`"
   ]
  },
  {
   "cell_type": "code",
   "execution_count": 3,
   "id": "ca4a7980",
   "metadata": {},
   "outputs": [
    {
     "name": "stdout",
     "output_type": "stream",
     "text": [
      "<class 'NoneType'>\n"
     ]
    }
   ],
   "source": [
    "print(type(x.states))"
   ]
  },
  {
   "cell_type": "code",
   "execution_count": 4,
   "id": "2ed8fe52",
   "metadata": {},
   "outputs": [],
   "source": [
    "x = x.generate_states(prime=False)"
   ]
  },
  {
   "cell_type": "code",
   "execution_count": 5,
   "id": "bf791909",
   "metadata": {},
   "outputs": [
    {
     "name": "stdout",
     "output_type": "stream",
     "text": [
      "<class 'numpy.ndarray'>\n"
     ]
    }
   ],
   "source": [
    "print(type(x.states))"
   ]
  },
  {
   "cell_type": "markdown",
   "id": "3cba9075",
   "metadata": {},
   "source": [
    "Prime orbits are default, but can be set to False and then reproduced by calling `prime_orbits` function"
   ]
  },
  {
   "cell_type": "code",
   "execution_count": 6,
   "id": "e9a9e291",
   "metadata": {},
   "outputs": [],
   "source": [
    "x.states = x.prime_orbits()"
   ]
  },
  {
   "cell_type": "code",
   "execution_count": 7,
   "id": "b7574af2",
   "metadata": {},
   "outputs": [
    {
     "data": {
      "text/plain": [
       "array([[-1, -1,  0],\n",
       "       [-1, -1,  1],\n",
       "       [ 0, -1,  0],\n",
       "       [ 0, -1,  1],\n",
       "       [ 1, -1,  0],\n",
       "       [ 1, -1,  1],\n",
       "       [ 0,  0,  1],\n",
       "       [ 1,  0,  1]])"
      ]
     },
     "execution_count": 7,
     "metadata": {},
     "output_type": "execute_result"
    }
   ],
   "source": [
    "x.states"
   ]
  },
  {
   "cell_type": "markdown",
   "id": "c6949081",
   "metadata": {},
   "source": [
    "The numerical optimization routine is built into the class as opposed to be a separate module like it is in `orbithunter`;\n",
    "this package's sister package."
   ]
  },
  {
   "cell_type": "code",
   "execution_count": 8,
   "id": "6c31e45b",
   "metadata": {},
   "outputs": [],
   "source": [
    "converged_states = x.hunt()"
   ]
  },
  {
   "cell_type": "markdown",
   "id": "91630437",
   "metadata": {},
   "source": [
    "Before after comparison"
   ]
  },
  {
   "cell_type": "code",
   "execution_count": 9,
   "id": "6d217c9d",
   "metadata": {},
   "outputs": [
    {
     "data": {
      "text/plain": [
       "array([[-1, -1,  0],\n",
       "       [-1, -1,  1],\n",
       "       [ 0, -1,  0],\n",
       "       [ 0, -1,  1],\n",
       "       [ 1, -1,  0],\n",
       "       [ 1, -1,  1],\n",
       "       [ 0,  0,  1],\n",
       "       [ 1,  0,  1]])"
      ]
     },
     "execution_count": 9,
     "metadata": {},
     "output_type": "execute_result"
    }
   ],
   "source": [
    "x.states "
   ]
  },
  {
   "cell_type": "code",
   "execution_count": 10,
   "id": "34e41a94",
   "metadata": {},
   "outputs": [
    {
     "data": {
      "text/plain": [
       "array([[-1.06677926, -1.06677926, -0.33060463],\n",
       "       [-1.19266331, -1.19266331,  1.32651313],\n",
       "       [-0.19883715, -1.1537165 , -0.19883715],\n",
       "       [ 0.        , -1.26491094,  1.26491094],\n",
       "       [ 1.26491094, -1.26491094,  0.        ],\n",
       "       [ 1.19266331, -1.32651313,  1.19266331],\n",
       "       [ 0.19883715,  0.19883715,  1.1537165 ],\n",
       "       [ 1.06677926,  0.33060463,  1.06677926]])"
      ]
     },
     "execution_count": 10,
     "metadata": {},
     "output_type": "execute_result"
    }
   ],
   "source": [
    "converged_states"
   ]
  },
  {
   "cell_type": "markdown",
   "id": "7ecb9b82",
   "metadata": {},
   "source": [
    "Technically, I should be returning the optimization result to ensure convergence, however the two functions for the\n",
    "equations of motion/cost function and the gradient of the cost function are: `eqn`, `cost`, `costgrad`."
   ]
  },
  {
   "cell_type": "code",
   "execution_count": 11,
   "id": "b2e471df",
   "metadata": {},
   "outputs": [],
   "source": [
    "x.states = converged_states"
   ]
  },
  {
   "cell_type": "markdown",
   "id": "1b36c740",
   "metadata": {},
   "source": [
    "Cost is the $L_2$ norm squared of the governing equations `1/2 F^2`"
   ]
  },
  {
   "cell_type": "code",
   "execution_count": 12,
   "id": "66000293",
   "metadata": {},
   "outputs": [
    {
     "data": {
      "text/plain": [
       "1.1815044184388797e-10"
      ]
     },
     "execution_count": 12,
     "metadata": {},
     "output_type": "execute_result"
    }
   ],
   "source": [
    "x.cost()"
   ]
  },
  {
   "cell_type": "markdown",
   "id": "c6da4085",
   "metadata": {},
   "source": [
    "Because it is the squared loss, we can expect the tolerance of each individual site in"
   ]
  },
  {
   "cell_type": "code",
   "execution_count": 13,
   "id": "59f6daa0",
   "metadata": {},
   "outputs": [
    {
     "data": {
      "text/plain": [
       "array([[-1.03063594e-06, -1.03063594e-06,  5.52687077e-07],\n",
       "       [ 1.45450969e-06,  1.45450969e-06,  1.00265457e-05],\n",
       "       [-7.90793613e-08, -1.62385988e-06, -7.90793613e-08],\n",
       "       [ 0.00000000e+00, -2.03817493e-06,  2.03817493e-06],\n",
       "       [ 2.03817493e-06, -2.03817493e-06,  0.00000000e+00],\n",
       "       [-1.45450969e-06, -1.00265457e-05, -1.45450969e-06],\n",
       "       [ 7.90793613e-08,  7.90793613e-08,  1.62385988e-06],\n",
       "       [ 1.03063594e-06, -5.52687077e-07,  1.03063594e-06]])"
      ]
     },
     "execution_count": 13,
     "metadata": {},
     "output_type": "execute_result"
    }
   ],
   "source": [
    "x.eqn()"
   ]
  },
  {
   "cell_type": "markdown",
   "id": "9a483f15",
   "metadata": {},
   "source": [
    "Cost functional `1/2 F^2` is a scalar valued function; therefore the gradient is a vector, not a matrix."
   ]
  },
  {
   "cell_type": "code",
   "execution_count": 14,
   "id": "de1e3adc",
   "metadata": {},
   "outputs": [
    {
     "data": {
      "text/plain": [
       "array([ 1.08567307e-05,  1.08567307e-05,  5.02395572e-06, -3.23339051e-05,\n",
       "       -3.23339051e-05, -1.97369425e-04,  1.19628119e-06,  2.12130064e-05,\n",
       "        1.19628119e-06,  0.00000000e+00,  3.26107890e-05, -3.26107890e-05,\n",
       "       -3.26107890e-05,  3.26107890e-05,  0.00000000e+00,  3.23339051e-05,\n",
       "        1.97369425e-04,  3.23339051e-05, -1.19628119e-06, -1.19628119e-06,\n",
       "       -2.12130064e-05, -1.08567307e-05, -5.02395572e-06, -1.08567307e-05])"
      ]
     },
     "execution_count": 14,
     "metadata": {},
     "output_type": "execute_result"
    }
   ],
   "source": [
    "x.costgrad()"
   ]
  },
  {
   "cell_type": "code",
   "execution_count": null,
   "id": "83656007",
   "metadata": {},
   "outputs": [],
   "source": [
    "def rotate(A):\n",
    "    x = A[len(A) - 1]\n",
    "    for i in range(len(A) - 1, 0, -1):\n",
    "        A[i] = A[i - 1];\n",
    "    A[0] = x;\n",
    "    return A\n",
    "\n",
    "\n",
    "def checkCyclic(A, B):\n",
    "    \"\"\" Checks if two orbits are members of the same group orbit\n",
    "    \n",
    "    A: \n",
    "    \n",
    "    \"\"\"\n",
    "    return ', '.join(map(str, A)) in ', '.join(map(str, B)) \n",
    "\n",
    "def primeOrbits(initial_conditions, check_neg=False, check_rev=False): \n",
    "    #initial conditions should be you entire list of possible shadow state configurations\n",
    "    #check_neg is a value that takes either 1 or 0 where if it is 1, it will check for phi to negative phi symmetry\n",
    "    initial_conditions[initial_conditions == 1] = 3\n",
    "    initial_conditions[initial_conditions == 0] = 2\n",
    "    initial_conditions[initial_conditions == -1] = 1\n",
    "    # here i am just changing my shadow state values to a different symbolic alphabet that will work better\n",
    "    double_cycles = np.append(initial_conditions,initial_conditions,axis=1)\n",
    "    # double_cycles is each shadow state repeated so that it is twice its length. This is used show checking for cyclic\n",
    "    # permutations as every permunation exists in the orbit as if it goes through it twice. Ex: all cyclic permutation of 123 \n",
    "    # exist somwhere in 123123\n",
    "    i = 0\n",
    "    while i < np.shape(initial_conditions)[0]: #looping through each row of the initial conditions\n",
    "        j = np.shape(initial_conditions)[0] - 1\n",
    "        while j > i: #looping rows of double_cycles, starting at the bottomw and ending before the row of the current \n",
    "                     #orbit we are checking\n",
    "            if checkCyclic(initial_conditions[i],double_cycles[j]) == True:\n",
    "                initial_conditions = np.delete(initial_conditions, j, 0) \n",
    "                double_cycles = np.delete(double_cycles, j, 0)    # if a orbit string exists in the double_cycle of of another\n",
    "            j = j - 1                                             # orbit, delete one of the orbits\n",
    "        i = i + 1\n",
    "    if check_neg == 1:\n",
    "        initial_conditions[initial_conditions == 1] = -1 #if we want to check if cycles are just negatives of another cycle\n",
    "        initial_conditions[initial_conditions == 2] = 0\n",
    "        initial_conditions[initial_conditions == 3] = 1\n",
    "        initial_conditions = initial_conditions*(-1)     # have to first convert to shadow states in order to apply negative\n",
    "        initial_conditions[initial_conditions == 1] = 3  # sign to states, then convert back the the 1 2 3 alphabet\n",
    "        initial_conditions[initial_conditions == 0] = 2\n",
    "        initial_conditions[initial_conditions == -1] = 1\n",
    "        i = 0\n",
    "        while i < np.shape(initial_conditions)[0]:\n",
    "            j = np.shape(initial_conditions)[0] - 1\n",
    "            while j > i:\n",
    "                if checkCyclic(initial_conditions[i],double_cycles[j]) == True:\n",
    "                    initial_conditions = np.delete(initial_conditions, j, 0)    # does the same process as before but for \n",
    "                    double_cycles = np.delete(double_cycles, j, 0)              # the comparing the negatives of the orbits\n",
    "                j = j - 1                                                       # to the double cycles\n",
    "            i = i + 1\n",
    "        initial_conditions[initial_conditions == 1] = -1\n",
    "        initial_conditions[initial_conditions == 2] = 0\n",
    "        initial_conditions[initial_conditions == 3] = 1\n",
    "        initial_conditions = initial_conditions*(-1)\n",
    "        initial_conditions[initial_conditions == 1] = 3\n",
    "        initial_conditions[initial_conditions == 0] = 2\n",
    "        initial_conditions[initial_conditions == -1] = 1\n",
    "    if check_rev == 1:\n",
    "        initial_conditions = initial_conditions[...,::-1]\n",
    "        i = 0\n",
    "        while i < np.shape(initial_conditions)[0]:\n",
    "            j = np.shape(initial_conditions)[0] - 1\n",
    "            while j > i:\n",
    "                if checkCyclic(initial_conditions[i],double_cycles[j]) == True:\n",
    "                    initial_conditions = np.delete(initial_conditions, j, 0)\n",
    "                    double_cycles = np.delete(double_cycles, j, 0)\n",
    "                j = j - 1\n",
    "            i = i + 1\n",
    "    copy_of_reversed_initial = initial_conditions.copy()\n",
    "    i = 0\n",
    "    del_array = np.zeros(np.shape(initial_conditions)[0])\n",
    "    while i < np.shape(initial_conditions)[0]:\n",
    "        j = 1\n",
    "        while j <= np.shape(initial_conditions)[1] - 1:\n",
    "            rotate(copy_of_reversed_initial[i])\n",
    "            if checkCyclic(copy_of_reversed_initial[i],initial_conditions[i]) == True:\n",
    "                del_array[i] = 1\n",
    "            j = j + 1\n",
    "        i = i + 1\n",
    "        \n",
    "    initial_conditions = np.delete(initial_conditions, np.where(del_array == 1), 0)\n",
    "    \n",
    "    initial_conditions[initial_conditions == 1] = -1\n",
    "    initial_conditions[initial_conditions == 2] = 0\n",
    "    initial_conditions[initial_conditions == 3] = 1\n",
    "\n",
    "    return initial_conditions"
   ]
  },
  {
   "cell_type": "code",
   "execution_count": null,
   "id": "189f1f3e",
   "metadata": {},
   "outputs": [],
   "source": [
    "def find_cycles(initial_conditions, n):\n",
    "    \"\"\"\n",
    "    Returns all cycles of length n; numerical tolerance is not checked for each instance. \n",
    "    \"\"\"\n",
    "    # this creates all cycle combinations to use as initial conditions.\n",
    "#     initial_conditions = list(itertools.product(*(shadow_states for i in range(n))))\n",
    "    cycles = []\n",
    "    # this runs the l-bfgs-b optimization algorithm for each initial condition\n",
    "    with Parallel(n_jobs=-2) as parallel:\n",
    "        cycles = parallel(delayed(minimize)(cost, phi, jac=jac, method='l-bfgs-b') for phi in initial_conditions)\n",
    "    \n",
    "    # scipy technically returns objects which describe the run time statistics; this simply returns\n",
    "    # the final lattice states (may not be fully converged).\n",
    "    \n",
    "    # It returns them in an array of shape [N, 2]\n",
    "    solutions = np.array([sol.x for sol in cycles])\n",
    "    return solutions"
   ]
  },
  {
   "cell_type": "code",
   "execution_count": null,
   "id": "23e010cf",
   "metadata": {},
   "outputs": [],
   "source": [
    "fig, ax = plt.subplots()\n",
    "ax.scatter(initial_conditions[:, 0], initial_conditions[:, 1])\n",
    "ax.set_xlim([-2, 2])\n",
    "ax.set_ylim([-2, 2])\n",
    "ax.grid()"
   ]
  },
  {
   "cell_type": "code",
   "execution_count": null,
   "id": "80e68700",
   "metadata": {},
   "outputs": [],
   "source": [
    "from joblib import Parallel, delayed"
   ]
  },
  {
   "cell_type": "code",
   "execution_count": null,
   "id": "3bb60727",
   "metadata": {},
   "outputs": [],
   "source": [
    "s = 2 + musqr"
   ]
  },
  {
   "cell_type": "code",
   "execution_count": null,
   "id": "6e4b72b2",
   "metadata": {},
   "outputs": [],
   "source": [
    "def eqn(lattice_state):\n",
    "    \"\"\"\n",
    "    lattice_state : np.ndarray\n",
    "        Vector of field values at each lattice sit\n",
    "    \n",
    "    \"\"\"\n",
    "    # the equations of motion t+1 and t-1 terms are accomplished by the \"roll\" function = cyclic rotation\n",
    "    cost_vector = (-1 * np.roll(lattice_state, -1) + (-1*(s-2)*lattice_state**3 +\n",
    "                                               s*lattice_state) - np.roll(lattice_state, 1))\n",
    "    # the l2 norm, giving us a scalar cost functional\n",
    "    return cost_vector\n",
    "\n",
    "def cost(lattice_state):\n",
    "    return 0.5 * np.linalg.norm(eqn(lattice_state))**2\n",
    "\n",
    "def jac(lattice_state):\n",
    "    \"\"\"\n",
    "    Jacobian of the COST FUNCTION\n",
    "    \n",
    "    \"\"\"\n",
    "    F = eqn(lattice_state)\n",
    "    JTF = -np.roll(F, 1) - np.roll(F, -1) + (-3 * (s - 2) * lattice_state**2 + s) * F  \n",
    "    return JTF"
   ]
  },
  {
   "cell_type": "code",
   "execution_count": null,
   "id": "26ae1dc5",
   "metadata": {},
   "outputs": [],
   "source": []
  },
  {
   "cell_type": "code",
   "execution_count": null,
   "id": "6a664134",
   "metadata": {},
   "outputs": [],
   "source": [
    "x = PhiK(n, k, musqr).generate_states(prime=False)\n",
    "# x.states = x.prime_orbits(check_neg=check_neg, check_rev=check_rev)\n",
    "initial_conditions = primeOrbits(x.states[::-1], check_neg=True, check_rev=False)"
   ]
  },
  {
   "cell_type": "code",
   "execution_count": null,
   "id": "e2e43cd1",
   "metadata": {},
   "outputs": [],
   "source": [
    "fig, ax = plt.subplots()\n",
    "ax.scatter(initial_conditions[:, 0], initial_conditions[:, 1])\n",
    "ax.set_xlim([-2, 2])\n",
    "ax.set_ylim([-2, 2])\n",
    "ax.grid()"
   ]
  },
  {
   "cell_type": "code",
   "execution_count": null,
   "id": "48c9eaef",
   "metadata": {},
   "outputs": [],
   "source": [
    "converged_cycles = find_cycles(initial_conditions, n)\n",
    "converged_cycles"
   ]
  },
  {
   "cell_type": "code",
   "execution_count": null,
   "id": "d122f194",
   "metadata": {},
   "outputs": [],
   "source": [
    " converged_cycles.min(axis=1)"
   ]
  },
  {
   "cell_type": "code",
   "execution_count": null,
   "id": "41c5f677",
   "metadata": {},
   "outputs": [],
   "source": [
    "fig, ax = plt.subplots()\n",
    "ax.scatter(converged_cycles[:, 0], converged_cycles[:, 1])\n",
    "ax.set_xlim([-2, 2])\n",
    "ax.set_ylim([-2, 2])\n",
    "ax.grid()"
   ]
  },
  {
   "cell_type": "code",
   "execution_count": null,
   "id": "c5c27547",
   "metadata": {},
   "outputs": [],
   "source": [
    "n=3\n",
    "x = PhiK(n, k, musqr).generate_states(prime=False)\n",
    "# x.states = x.prime_orbits(check_neg=check_neg, check_rev=check_rev)\n",
    "\n",
    "\n",
    "\n",
    "def vectorized_comparison(symbols, symbols_to_compare_against, offdiag=0):\n",
    "    counts = np.char.count(symbols_to_compare_against.astype(str).reshape(-1, 1),\n",
    "                           symbols.astype(str).reshape(1, -1))\n",
    "#     return counts\n",
    "    lower_idx = np.tril_indices(len(counts), offdiag)\n",
    "    mask = np.zeros_like(counts)\n",
    "    mask[lower_idx] = 1\n",
    "    masked_counts = np.ma.masked_array(counts, mask=mask)\n",
    "    return masked_counts\n",
    "\n",
    "\n",
    "x = PhiK(n, k, musqr).generate_states(prime=False)\n",
    "# x.states = x.prime_orbits(check_neg=check_neg, check_rev=check_rev)\n",
    "\n",
    "initial_conditions = primeOrbits(x.states[::-1], check_neg=True, check_rev=True)"
   ]
  },
  {
   "cell_type": "code",
   "execution_count": null,
   "id": "cff3ee06",
   "metadata": {},
   "outputs": [],
   "source": [
    "prime_symbols = np.sort(np.array((2+initial_conditions).astype(str), dtype=object).sum(axis=1))\n",
    "prime_idx = np.where([s in prime_symbols for s in symbols])[0]\n",
    "\n",
    "converged_cycles = find_cycles(initial_conditions, n)\n",
    "converged_cycles\n",
    "\n",
    "# n=6"
   ]
  },
  {
   "cell_type": "code",
   "execution_count": null,
   "id": "2311ea58",
   "metadata": {},
   "outputs": [],
   "source": [
    "for check_neg, check_rev in list(itertools.product([True, False], [True, False]))[::-1]:\n",
    "    x = PhiK(n, k, musqr).generate_states(prime=False)\n",
    "    x.states = x.states[::-1]\n",
    "    states = x.states\n",
    "    # states = initial_conditions\n",
    "    if -1 in states:\n",
    "        states = states + 2\n",
    "\n",
    "    # symbol representation\n",
    "    symbols = np.sort(np.array(states.astype(str), dtype=object).sum(axis=1))\n",
    "    # double repeats\n",
    "    doubles = symbols + symbols\n",
    "    initial_conditions = x.prime_orbits(check_neg=check_neg, check_rev=check_rev)\n",
    "    prime_symbols = np.sort(np.array((2+initial_conditions).astype(str), dtype=object).sum(axis=1))\n",
    "    prime_idx = np.where([s in prime_symbols for s in symbols])[0]\n",
    "    masked_counts = vectorized_comparison(symbols, doubles, offdiag=-1)\n",
    "    masked_counts[prime_idx, :] *= 100\n",
    "    fig,ax = plt.subplots(figsize=(10,10))\n",
    "    im = ax.matshow(masked_counts)\n",
    "    plt.colorbar(im)"
   ]
  },
  {
   "cell_type": "code",
   "execution_count": null,
   "id": "0efd5433",
   "metadata": {},
   "outputs": [],
   "source": [
    "states = x.states\n",
    "# states = initial_conditions\n",
    "if -1 in states:\n",
    "    states = states + 2\n",
    "\n",
    "# symbol representation\n",
    "symbols = np.sort(np.array(states.astype(str), dtype=object).sum(axis=1))\n",
    "# double repeats\n",
    "doubles = symbols + symbols\n",
    "\n",
    "# the function which does the vectorized comparison\n",
    "masked_counts = vectorized_comparison(symbols, doubles, offdiag=-1)"
   ]
  },
  {
   "cell_type": "code",
   "execution_count": null,
   "id": "6c10b0c1",
   "metadata": {},
   "outputs": [],
   "source": [
    "symbols[0]"
   ]
  },
  {
   "cell_type": "code",
   "execution_count": null,
   "id": "57dfb90c",
   "metadata": {},
   "outputs": [],
   "source": [
    "symbols[3]"
   ]
  },
  {
   "cell_type": "code",
   "execution_count": null,
   "id": "6ffe0da1",
   "metadata": {},
   "outputs": [],
   "source": [
    "symbols[::3]"
   ]
  },
  {
   "cell_type": "code",
   "execution_count": null,
   "id": "c3270bea",
   "metadata": {},
   "outputs": [],
   "source": [
    "\n",
    "fig,ax = plt.subplots(figsize=(10,10))\n",
    "im = ax.matshow(masked_counts)\n",
    "plt.colorbar(im)"
   ]
  },
  {
   "cell_type": "code",
   "execution_count": null,
   "id": "2e09148c",
   "metadata": {},
   "outputs": [],
   "source": [
    "masked_counts"
   ]
  },
  {
   "cell_type": "code",
   "execution_count": null,
   "id": "c39ad981",
   "metadata": {},
   "outputs": [],
   "source": [
    "# The index positions of cycles which are prime (so far)\n",
    "admissible_index = list(np.where(((masked_counts == 1).sum(axis=0) == 0))[0]) + [0]\n",
    "# The comparison fails to capture cycles like '111', handle them explicitly\n",
    "not_pure_cyclic = np.where(masked_counts.sum(axis=1) != 2)[0]\n",
    "admissible_index = list(set(admissible_index).intersection(set(not_pure_cyclic)))\n",
    "# keep only the admissible states\n",
    "states = states[admissible_index]\n",
    "doubles = doubles[admissible_index]\n",
    "\n",
    "prime_symbols = np.sort(np.array((2+initial_conditions).astype(str), dtype=object).sum(axis=1))\n",
    "masked_counts = vectorized_comparison(symbols, doubles, offdiag=-1)"
   ]
  },
  {
   "cell_type": "code",
   "execution_count": null,
   "id": "34850763",
   "metadata": {},
   "outputs": [],
   "source": [
    "masked_counts.shape"
   ]
  },
  {
   "cell_type": "code",
   "execution_count": null,
   "id": "68add7a9",
   "metadata": {},
   "outputs": [],
   "source": [
    "\n",
    "fig,ax = plt.subplots(figsize=(10,10))\n",
    "im = ax.matshow(masked_counts)\n",
    "plt.colorbar(im)"
   ]
  },
  {
   "cell_type": "code",
   "execution_count": null,
   "id": "eb71b524",
   "metadata": {},
   "outputs": [],
   "source": [
    "# states = x.states\n",
    "# if -1 in states:\n",
    "#     states = states + 2\n",
    "\n",
    "# # symbol representation\n",
    "# symbols = np.sort(np.array(states.astype(str), dtype=object).sum(axis=1))\n",
    "# # double repeats\n",
    "# doubles = symbols + symbols\n",
    "\n",
    "# # the function which does the vectorized comparison\n",
    "# masked_counts = vectorized_comparison(symbols, doubles, offdiag=-1)\n",
    "\n",
    "# masked_counts[prime_idx, :] *= 100\n",
    "\n",
    "# fig,ax = plt.subplots(figsize=(10,10))\n",
    "# im = ax.matshow(masked_counts)\n",
    "# plt.colorbar(im)\n",
    "\n",
    "# fig,ax = plt.subplots(figsize=(10,10))\n",
    "# im = ax.matshow(masked_counts[prime_idx, :])\n",
    "# plt.colorbar(im)\n",
    "\n",
    "# fig,ax = plt.subplots(figsize=(10,10))\n",
    "# im = ax.matshow(masked_counts)\n",
    "# plt.colorbar(im)\n",
    "\n",
    "symbols[9]\n",
    "\n",
    "doubles\n",
    "\n",
    "states = x.states\n",
    "if -1 in states:\n",
    "    states = states + 2\n",
    "\n",
    "# symbol representation\n",
    "symbols = np.sort(np.array(states.astype(str), dtype=object).sum(axis=1))\n",
    "# double repeats\n",
    "doubles = symbols + symbols\n",
    "\n",
    "# the function which does the vectorized comparison\n",
    "masked_counts = vectorized_comparison(symbols, doubles, offdiag=-1)\n",
    "\n",
    "# The index positions of cycles which are prime (so far)\n",
    "admissible_index = list(np.where(((masked_counts == 1).sum(axis=0) == 0))[0]) + [0]\n",
    "# The comparison fails to capture cycles like '111', handle them explicitly\n",
    "not_pure_cyclic = np.where(masked_counts.sum(axis=1) != 2)[0]\n",
    "admissible_index = list(set(admissible_index).intersection(set(not_pure_cyclic)))\n",
    "# keep only the admissible states\n",
    "states = states[admissible_index]\n",
    "doubles = doubles[admissible_index]"
   ]
  },
  {
   "cell_type": "code",
   "execution_count": null,
   "id": "6e84f74a",
   "metadata": {},
   "outputs": [],
   "source": []
  }
 ],
 "metadata": {
  "kernelspec": {
   "display_name": "Python 3 (ipykernel)",
   "language": "python",
   "name": "python3"
  },
  "language_info": {
   "codemirror_mode": {
    "name": "ipython",
    "version": 3
   },
   "file_extension": ".py",
   "mimetype": "text/x-python",
   "name": "python",
   "nbconvert_exporter": "python",
   "pygments_lexer": "ipython3",
   "version": "3.10.4"
  }
 },
 "nbformat": 4,
 "nbformat_minor": 5
}

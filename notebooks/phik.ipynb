{
 "cells": [
  {
   "cell_type": "code",
   "execution_count": 1,
   "id": "567597fd",
   "metadata": {},
   "outputs": [],
   "source": [
    "import cyclehunter\n",
    "\n",
    "from cyclehunter import *\n",
    "\n",
    "import numpy as np\n",
    "from scipy.optimize import minimize\n",
    "from scipy.linalg import eig\n",
    "import matplotlib.pyplot as plt\n",
    "import time"
   ]
  },
  {
   "cell_type": "markdown",
   "id": "f038a323",
   "metadata": {},
   "source": [
    "# PhiK Class\n",
    "\n",
    "Most relevant methods are `generate_states`, `prime_orbits` and `hunt`.\n",
    "(I need to change from orbits to cycles oops..)\n",
    "\n",
    "Class instantiation expects $n$, $k$, and $\\mu^2$."
   ]
  },
  {
   "cell_type": "code",
   "execution_count": 2,
   "id": "12f16b72",
   "metadata": {},
   "outputs": [],
   "source": [
    "n = 3\n",
    "k = 3\n",
    "musqr = 5\n",
    "x = PhiK(n, k, musqr)\n"
   ]
  },
  {
   "cell_type": "markdown",
   "id": "99ac66eb",
   "metadata": {},
   "source": [
    "Relevant attributes are `n`, `k`, `musqr`, `states`. The `states` are empty until we populate them via `generate_states`"
   ]
  },
  {
   "cell_type": "code",
   "execution_count": 3,
   "id": "ca4a7980",
   "metadata": {},
   "outputs": [
    {
     "name": "stdout",
     "output_type": "stream",
     "text": [
      "<class 'NoneType'>\n"
     ]
    }
   ],
   "source": [
    "print(type(x.states))"
   ]
  },
  {
   "cell_type": "code",
   "execution_count": 4,
   "id": "2ed8fe52",
   "metadata": {},
   "outputs": [],
   "source": [
    "x = x.generate_states(prime=False)"
   ]
  },
  {
   "cell_type": "code",
   "execution_count": 5,
   "id": "bf791909",
   "metadata": {},
   "outputs": [
    {
     "name": "stdout",
     "output_type": "stream",
     "text": [
      "<class 'numpy.ndarray'>\n"
     ]
    }
   ],
   "source": [
    "print(type(x.states))"
   ]
  },
  {
   "cell_type": "markdown",
   "id": "3cba9075",
   "metadata": {},
   "source": [
    "Prime orbits are default, but can be set to False and then reproduced by calling `prime_orbits` function"
   ]
  },
  {
   "cell_type": "code",
   "execution_count": 6,
   "id": "e9a9e291",
   "metadata": {},
   "outputs": [],
   "source": [
    "x.states = x.prime_orbits()"
   ]
  },
  {
   "cell_type": "code",
   "execution_count": 7,
   "id": "b7574af2",
   "metadata": {},
   "outputs": [
    {
     "data": {
      "text/plain": [
       "array([[-1, -1,  0],\n",
       "       [-1, -1,  1],\n",
       "       [ 0, -1,  0],\n",
       "       [ 0, -1,  1]], dtype=int32)"
      ]
     },
     "execution_count": 7,
     "metadata": {},
     "output_type": "execute_result"
    }
   ],
   "source": [
    "x.states"
   ]
  },
  {
   "cell_type": "markdown",
   "id": "c6949081",
   "metadata": {},
   "source": [
    "The numerical optimization routine is built into the class as opposed to be a separate module like it is in `orbithunter`;\n",
    "this package's sister package."
   ]
  },
  {
   "cell_type": "code",
   "execution_count": 8,
   "id": "6c31e45b",
   "metadata": {},
   "outputs": [],
   "source": [
    "converged_states = x.hunt()"
   ]
  },
  {
   "cell_type": "markdown",
   "id": "91630437",
   "metadata": {},
   "source": [
    "Before after comparison"
   ]
  },
  {
   "cell_type": "code",
   "execution_count": 9,
   "id": "6d217c9d",
   "metadata": {},
   "outputs": [
    {
     "data": {
      "text/plain": [
       "array([[-1, -1,  0],\n",
       "       [-1, -1,  1],\n",
       "       [ 0, -1,  0],\n",
       "       [ 0, -1,  1]], dtype=int32)"
      ]
     },
     "execution_count": 9,
     "metadata": {},
     "output_type": "execute_result"
    }
   ],
   "source": [
    "x.states "
   ]
  },
  {
   "cell_type": "code",
   "execution_count": 10,
   "id": "34e41a94",
   "metadata": {},
   "outputs": [
    {
     "data": {
      "text/plain": [
       "array([[-1.06677935, -1.06677935, -0.33060481],\n",
       "       [-1.19266329, -1.19266329,  1.32651357],\n",
       "       [-0.1988372 , -1.15371662, -0.1988372 ],\n",
       "       [ 0.        , -1.2649111 ,  1.2649111 ]])"
      ]
     },
     "execution_count": 10,
     "metadata": {},
     "output_type": "execute_result"
    }
   ],
   "source": [
    "converged_states"
   ]
  },
  {
   "cell_type": "markdown",
   "id": "7ecb9b82",
   "metadata": {},
   "source": [
    "Technically, I should be returning the optimization result to ensure convergence, however the two functions for the\n",
    "equations of motion/cost function and the gradient of the cost function are: `eqn`, `cost`, `costgrad`."
   ]
  },
  {
   "cell_type": "code",
   "execution_count": 11,
   "id": "b2e471df",
   "metadata": {},
   "outputs": [],
   "source": [
    "x.states = converged_states"
   ]
  },
  {
   "cell_type": "markdown",
   "id": "1b36c740",
   "metadata": {},
   "source": [
    "Cost is the $L_2$ norm squared of the governing equations `1/2 F^2`"
   ]
  },
  {
   "cell_type": "code",
   "execution_count": 12,
   "id": "66000293",
   "metadata": {},
   "outputs": [
    {
     "data": {
      "text/plain": [
       "1.9114600883812928e-12"
      ]
     },
     "execution_count": 12,
     "metadata": {},
     "output_type": "execute_result"
    }
   ],
   "source": [
    "x.cost()"
   ]
  },
  {
   "cell_type": "markdown",
   "id": "c6da4085",
   "metadata": {},
   "source": [
    "Because it is the squared loss, we can expect the tolerance of each individual site in"
   ]
  },
  {
   "cell_type": "code",
   "execution_count": 13,
   "id": "59f6daa0",
   "metadata": {},
   "outputs": [
    {
     "data": {
      "text/plain": [
       "array([[ 2.25684180e-07,  2.25684180e-07, -1.77274262e-07],\n",
       "       [ 7.06177658e-07,  7.06177658e-07,  1.38970459e-06],\n",
       "       [-1.97346990e-07,  2.77151014e-08, -1.97346990e-07],\n",
       "       [ 0.00000000e+00,  5.84086848e-07, -5.84086848e-07]])"
      ]
     },
     "execution_count": 13,
     "metadata": {},
     "output_type": "execute_result"
    }
   ],
   "source": [
    "x.eqn()"
   ]
  },
  {
   "cell_type": "markdown",
   "id": "9a483f15",
   "metadata": {},
   "source": [
    "Cost functional `1/2 F^2` is a scalar valued function; therefore the gradient is a vector, not a matrix."
   ]
  },
  {
   "cell_type": "code",
   "execution_count": 14,
   "id": "de1e3adc",
   "metadata": {},
   "outputs": [
    {
     "data": {
      "text/plain": [
       "array([-2.32111118e-06, -2.32111118e-06, -1.40164827e-06, -1.22201296e-05,\n",
       "       -1.22201296e-05, -2.83650838e-05, -1.09476170e-06,  3.53418990e-08,\n",
       "       -1.09476170e-06,  0.00000000e+00, -9.34539038e-06,  9.34539038e-06])"
      ]
     },
     "execution_count": 14,
     "metadata": {},
     "output_type": "execute_result"
    }
   ],
   "source": [
    "x.costgrad()"
   ]
  },
  {
   "cell_type": "code",
   "execution_count": 22,
   "id": "f6c007d8",
   "metadata": {},
   "outputs": [
    {
     "data": {
      "text/plain": [
       "array([], shape=(0, 1), dtype=int32)"
      ]
     },
     "execution_count": 22,
     "metadata": {},
     "output_type": "execute_result"
    }
   ],
   "source": [
    "PhiK(n, k, musqr).generate_states(prime=True).states"
   ]
  },
  {
   "cell_type": "code",
   "execution_count": 26,
   "id": "4b8568de",
   "metadata": {},
   "outputs": [
    {
     "name": "stdout",
     "output_type": "stream",
     "text": [
      "Finding all prime 2-cycles took 0.002499103546142578 seconds\n",
      "Finding all prime 3-cycles took 0.0020008087158203125 seconds\n",
      "Finding all prime 4-cycles took 0.0059986114501953125 seconds\n",
      "Finding all prime 5-cycles took 0.02649974822998047 seconds\n",
      "Finding all prime 6-cycles took 0.20400023460388184 seconds\n",
      "Finding all prime 7-cycles took 1.7719998359680176 seconds\n",
      "Finding all prime 8-cycles took 15.42199993133545 seconds\n",
      "Finding all prime 9-cycles took 139.9445059299469 seconds\n"
     ]
    }
   ],
   "source": [
    "# parameters\n",
    "musqr = 5\n",
    "n = 7\n",
    "k = 3\n",
    "for n in range(2, 10):\n",
    "    t1 = time.time_ns()/10**9\n",
    "    initial = PhiK(n, k, musqr).generate_states(prime=True)\n",
    "    final = initial.hunt() \n",
    "    t2 = time.time_ns()/10**9\n",
    "    print(f'Finding all prime {n}-cycles took {t2-t1} seconds')"
   ]
  }
 ],
 "metadata": {
  "kernelspec": {
   "display_name": "Python 3 (ipykernel)",
   "language": "python",
   "name": "python3"
  },
  "language_info": {
   "codemirror_mode": {
    "name": "ipython",
    "version": 3
   },
   "file_extension": ".py",
   "mimetype": "text/x-python",
   "name": "python",
   "nbconvert_exporter": "python",
   "pygments_lexer": "ipython3",
   "version": "3.10.4"
  }
 },
 "nbformat": 4,
 "nbformat_minor": 5
}
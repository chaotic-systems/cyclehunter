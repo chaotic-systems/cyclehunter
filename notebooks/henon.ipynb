{
 "cells": [
  {
   "cell_type": "code",
   "execution_count": 1,
   "metadata": {},
   "outputs": [],
   "source": [
    "import sys\n",
    "import numpy as np\n",
    "import matplotlib.pyplot as plt\n",
    "from math import pi\n",
    "import itertools\n",
    "from scipy.optimize import root\n",
    "from scipy.special import comb"
   ]
  },
  {
   "cell_type": "markdown",
   "metadata": {},
   "source": [
    "Each spatiotemporal solution to the KSE is a scalar spatiotemporal velocity field $u(t,x)$ which satisfies the equation\n",
    "\n",
    "#### Spatiotemporal Henon \n",
    "\n",
    "$$F_n(\\phi_n) = -\\phi_{n+1}+a\\phi^{2}_n + b\\phi_{n-1} -1 = 0$$\n",
    "\n",
    "#### Parameter values\n",
    "\n",
    "$a = 6\\\\\n",
    "b = -1$\n",
    "\n",
    "#### Explicit examples of shifted states\n",
    "\n",
    "Using dummy values for completely demonstrative purposes, \n",
    "\n",
    "If \n",
    "$\\phi_n = [1, 2, 3, 4, 5]$\n",
    "\n",
    "Then\n",
    "\n",
    "$\\phi_{n-1} = [5, 1, 2, 3, 4] \\\\\n",
    "\\phi_{n+1} = [2, 3, 4, 5, 1]$\n",
    "\n",
    "#### \n",
    "\n",
    "The approach of this notebook is to simply solve the equation, hopefully in a variational manner spatiotemporally.\n",
    "\n"
   ]
  },
  {
   "cell_type": "markdown",
   "metadata": {},
   "source": [
    "# Single Cycle Implementation\n",
    "\n",
    "We will produce initial conditions using shadow states; mapping symbolic configurations of equilibria into numerical\n",
    "arrays."
   ]
  },
  {
   "cell_type": "markdown",
   "metadata": {},
   "source": [
    "The Henon map can be written as a 2-step recursive equation \n",
    "\n",
    "$$x_{n+1} =  -1 + a x_n^2 + b x_{n-1}$$\n",
    "\n",
    "This is included so that we can see if the cycle can be approximately reproduced by iterating a single point N times."
   ]
  },
  {
   "cell_type": "code",
   "execution_count": 351,
   "metadata": {},
   "outputs": [],
   "source": [
    "def iterate(xn, xn_minus_1, a, b):\n",
    "    return -1 + a * xn **2 + b * xn_minus_1, xn"
   ]
  },
  {
   "cell_type": "markdown",
   "metadata": {},
   "source": [
    "\n",
    "$$F_n(\\phi) = -\\phi_{n+1}+a\\phi^{2}_n + b\\phi_{n-1} -1 = \\mathbf{0}$$"
   ]
  },
  {
   "cell_type": "code",
   "execution_count": 49,
   "metadata": {},
   "outputs": [],
   "source": [
    "def eqn(state, a, b):\n",
    "    return -np.roll(state, -1) + a * state**2 + b * np.roll(state, 1) - 1"
   ]
  },
  {
   "cell_type": "code",
   "execution_count": null,
   "metadata": {},
   "outputs": [],
   "source": []
  },
  {
   "cell_type": "markdown",
   "metadata": {},
   "source": [
    "# Optimization routines\n",
    "\n",
    "Before any special custom implementation, it will almost always benefit us to see if we can use premade solvers to give\n",
    "us something that is \"good enough\", as it saves a tremendous amount of time and effort. "
   ]
  },
  {
   "cell_type": "markdown",
   "metadata": {},
   "source": [
    "# scipy.optimize.root\n",
    "\n",
    "This function attempts to solve $F(\\phi) = 0$ as a root solving problem; as this is a vector equation, our function that we pass needs to return the entire vector of F values. This function, `root` takes 1. the function we want roots of, 2. the initial condition/guess, 3. any addition arguments passed to the variable `args` as a tuple."
   ]
  },
  {
   "cell_type": "code",
   "execution_count": 354,
   "metadata": {},
   "outputs": [],
   "source": [
    "state = np.array([0.607, 0.607])\n",
    "result = root(eqn, state, args=(a, b))\n",
    "\n",
    "xn_minus_1, xn = result.x\n",
    "example_trajectory=  [xn_minus_1, xn]\n",
    "for i in range(20):\n",
    "    print(f'Iteration number {i} had discrepancy between iterations equal to {xn-xn_minus_1}')\n",
    "    xn, xn_minus_1 = iterate(xn, xn_minus_1, a, b)\n",
    "    example_trajectory.append(xn)\n"
   ]
  },
  {
   "cell_type": "code",
   "execution_count": 361,
   "metadata": {},
   "outputs": [],
   "source": [
    "negative_fixed_point = np.array([-0.274, -0.274])\n",
    "nfp_result = root(eqn, negative_fixed_point, args=(a, b))\n",
    "\n",
    "xn_minus_1, xn = nfp_result.x\n",
    "example_trajectory=  [xn_minus_1, xn]\n",
    "for i in range(25):\n",
    "    print(f'Iteration number {i} had discrepancy between iterations equal to {xn-xn_minus_1}')\n",
    "    xn, xn_minus_1 = iterate(xn, xn_minus_1, a, b)\n",
    "    example_trajectory.append(xn)\n"
   ]
  },
  {
   "cell_type": "code",
   "execution_count": 407,
   "metadata": {},
   "outputs": [],
   "source": []
  },
  {
   "cell_type": "markdown",
   "metadata": {},
   "source": [
    "Hard coded equilibria values determine from past runs of the previous fixed point searches above"
   ]
  },
  {
   "cell_type": "code",
   "execution_count": null,
   "metadata": {},
   "outputs": [],
   "source": [
    "def generate_states(symbols, n):\n",
    "    shadow_states = np.concatenate([coord.ravel().reshape(-1, 1) for coord in np.meshgrid(*(shadow_symbols for i in\n",
    "                                                                                          range(n)))],\n",
    "                                 axis=1)\n",
    "    return shadow_states\n",
    "\n",
    "def _rotate(a):\n",
    "    x = a[len(a) - 1]\n",
    "    for i in range(len(a) - 1, 0, -1):\n",
    "        a[i] = a[i - 1]\n",
    "    a[0] = x\n",
    "    return a\n",
    "\n",
    "def _check_cyclic(cycle_1, cycle_2):\n",
    "    \"\"\" Checks if two cycles are members of the same group cycle\n",
    "\n",
    "    \"\"\"\n",
    "    return ', '.join(map(str, cycle_1)) in ', '.join(map(str, cycle_2))\n",
    "\n",
    "def prime_cycles(states, check_neg=False, check_rev=False):\n",
    "    initial_conditions = states.copy()\n",
    "    double_cycles = np.append(initial_conditions, initial_conditions, axis=1)\n",
    "    # double_cycles is each shadow state repeated so that it is twice its length. This is used show checking for cyclic\n",
    "    # permutations as every permunation exists in the cycle as if it goes through it twice. Ex: all cyclic permutation of 01\n",
    "    # exist somwhere in 0101\n",
    "    i = 0\n",
    "    while i < np.shape(initial_conditions)[0]:  # looping through each row of the initial conditions\n",
    "        j = np.shape(initial_conditions)[0] - 1\n",
    "        while j > i:  # looping rows of double_cycles, starting at the bottomw and ending before the row of the current\n",
    "            # cycle we are checking\n",
    "            if _check_cyclic(initial_conditions[i], double_cycles[j]) == True:\n",
    "                initial_conditions = np.delete(initial_conditions, j, 0)\n",
    "                double_cycles = np.delete(double_cycles, j,\n",
    "                                          0)  # if a cycle string exists in the double_cycle of of another\n",
    "            j = j - 1  # cycle, delete one of the cycles\n",
    "        i = i + 1\n",
    "        \n",
    "    copy_of_reversed_initial = initial_conditions.copy()\n",
    "    i = 0\n",
    "    del_array = np.zeros(np.shape(initial_conditions)[0])\n",
    "    while i < np.shape(initial_conditions)[0]:\n",
    "        j = 1\n",
    "        while j <= np.shape(initial_conditions)[1] - 1:\n",
    "            _rotate(copy_of_reversed_initial[i])\n",
    "            if _check_cyclic(copy_of_reversed_initial[i], initial_conditions[i]) == True:\n",
    "                del_array[i] = 1\n",
    "            j = j + 1\n",
    "        i = i + 1\n",
    "\n",
    "    initial_conditions = np.delete(initial_conditions, np.where(del_array == 1), 0)\n",
    "    states = initial_conditions\n",
    "    return states\n",
    "\n",
    "def shadow_states_mapping(symbol_state):\n",
    "    shadow_states_dict = {0: -0.27429188517743175, 1: 0.6076252185107651}\n",
    "    mapped_state = np.array([shadow_states_dict[symbol] for symbol in symbol_state])\n",
    "    return mapped_state\n",
    "\n",
    "def n_prime_cycles(n, k):\n",
    "    if n == 1:\n",
    "        return k\n",
    "    elif n == 2:\n",
    "        return int(comb(k, 2))\n",
    "    else:\n",
    "        return int((1./n) * (k ** n - np.sum([n_prime_cycles(j, k) * j for j in range(1, n//2 + 1) if n % j == 0])))"
   ]
  },
  {
   "cell_type": "code",
   "execution_count": 408,
   "metadata": {},
   "outputs": [],
   "source": [
    "shadow_symbols = [0, 1]\n",
    "shadow_states_dict = {0: -0.27429188517743175, 1: 0.6076252185107651}"
   ]
  },
  {
   "cell_type": "code",
   "execution_count": 474,
   "metadata": {},
   "outputs": [
    {
     "name": "stdout",
     "output_type": "stream",
     "text": [
      "Checking that prime states code gives correct number of prime states\n",
      "1 2 True\n",
      "2 1 True\n",
      "3 2 True\n",
      "4 3 True\n",
      "5 6 True\n",
      "6 9 True\n",
      "7 18 True\n",
      "8 30 True\n",
      "9 56 True\n",
      "10 99 True\n",
      "11 186 True\n"
     ]
    }
   ],
   "source": [
    "print('Checking that prime states code gives correct number of prime states')\n",
    "for cycle_length in range(1, 12):\n",
    "    all_states = generate_states(shadow_symbols, cycle_length)\n",
    "    prime_states = prime_cycles(all_states)\n",
    "    print(cycle_length, prime_states.shape[0], prime_states.shape[0] == n_prime_cycles(cycle_length, 2))"
   ]
  },
  {
   "cell_type": "code",
   "execution_count": 406,
   "metadata": {},
   "outputs": [
    {
     "name": "stdout",
     "output_type": "stream",
     "text": [
      "0 -1.1102230246251565e-16\n",
      "1 3.3306690738754696e-16\n",
      "2 -1.1102230246251565e-15\n",
      "3 3.219646771412954e-15\n",
      "4 -9.547918011776346e-15\n",
      "5 2.808864252301646e-14\n",
      "6 -8.304468224196171e-14\n",
      "7 2.4513724383723456e-13\n",
      "8 -7.238654120556021e-13\n",
      "9 2.1374013670083514e-12\n",
      "10 -6.31139585038909e-12\n"
     ]
    }
   ],
   "source": [
    "xn_minus_1, xn = results_list[0].x[0], results_list[0].x[1]\n",
    "example_trajectory =  [xn_minus_1, xn]\n",
    "for i in range(len(results_list[0].x)-2):\n",
    "    xn, xn_minus_1 = iterate(xn, xn_minus_1, a, b)\n",
    "    print(i, xn-results_list[0].x[i+2])\n",
    "    example_trajectory.append(xn)"
   ]
  },
  {
   "cell_type": "code",
   "execution_count": 256,
   "metadata": {},
   "outputs": [],
   "source": [
    "results_list = []\n",
    "for each_initial_condition in prime_states:\n",
    "    mapped_initial_condition = shadow_states_mapping(each_initial_condition)\n",
    "    result = root(eqn, mapped_initial_condition, args=(a, b))\n",
    "    results_list.append(result)\n",
    "    convergence_statuses = set([result.status for result in results_list])\n",
    "    assert convergence_statuses == {1}"
   ]
  },
  {
   "cell_type": "markdown",
   "metadata": {},
   "source": [
    "# Code which converges all prime cycles\n",
    "\n",
    "The biggest bottleneck is determining the set of prime orbits. "
   ]
  },
  {
   "cell_type": "code",
   "execution_count": 468,
   "metadata": {},
   "outputs": [
    {
     "name": "stdout",
     "output_type": "stream",
     "text": [
      "2 0.0019979476928710938\n",
      "3 0.002002239227294922\n",
      "4 0.0019986629486083984\n",
      "5 0.0019996166229248047\n",
      "6 0.005000114440917969\n",
      "7 0.008999347686767578\n",
      "8 0.020998477935791016\n",
      "9 0.05200028419494629\n",
      "10 0.14200115203857422\n",
      "11 0.4349985122680664\n",
      "12 1.4000020027160645\n",
      "13 4.973998069763184\n",
      "14 18.598000049591064\n",
      "15 66.30899977684021\n",
      "16 261.9443643093109\n",
      "17 1024.993240594864\n"
     ]
    }
   ],
   "source": [
    "all_results = []\n",
    "\n",
    "min_cycle_length = 2\n",
    "max_cycle_length = 17\n",
    "for cycle_length in range(min_cycle_length, max_cycle_length + 1):\n",
    "    t0 = time.time()\n",
    "    all_states = generate_states(shadow_symbols, cycle_length)\n",
    "    symbol_chunks = [np.where(all_states.sum(axis=1) == total) for total in range(1, cycle_length)]\n",
    "    results_list = []\n",
    "    n_cycles_cumulative = 0\n",
    "    for each_chunk in symbol_chunks:\n",
    "        prime_states = prime_cycles(all_states[each_chunk[0]])\n",
    "        for each_initial_condition in prime_states:\n",
    "            mapped_initial_condition = shadow_states_mapping(each_initial_condition)\n",
    "            result = root(eqn, mapped_initial_condition, args=(a, b))\n",
    "            results_list.append(result)\n",
    "    convergence_statuses = set([result.status for result in results_list])\n",
    "    assert convergence_statuses == {1} and (len(results_list) == n_prime_cycles(cycle_length, 2))\n",
    "    all_results.append(results_list)    \n",
    "    t1 = time.time()\n",
    "    print(cycle_length, t1-t0)"
   ]
  },
  {
   "cell_type": "code",
   "execution_count": 469,
   "metadata": {},
   "outputs": [],
   "source": [
    "all_cycles = np.concatenate(all_results)"
   ]
  },
  {
   "cell_type": "code",
   "execution_count": 470,
   "metadata": {},
   "outputs": [],
   "source": [
    "all_x = []\n",
    "all_y = []\n",
    "for i in range(len(all_cycles[0].x)-1):\n",
    "    x = [result.x[i] for result in all_cycles]\n",
    "    y = [result.x[i+1] for result in all_cycles]\n",
    "    all_x.append(x)\n",
    "    all_y.append(y)\n",
    "    "
   ]
  },
  {
   "cell_type": "code",
   "execution_count": 471,
   "metadata": {},
   "outputs": [],
   "source": [
    "x = np.concatenate((all_x))"
   ]
  },
  {
   "cell_type": "code",
   "execution_count": 472,
   "metadata": {},
   "outputs": [],
   "source": [
    "y = np.concatenate((all_y))"
   ]
  },
  {
   "cell_type": "code",
   "execution_count": 473,
   "metadata": {},
   "outputs": [
    {
     "data": {
      "text/plain": [
       "<matplotlib.collections.PathCollection at 0x1b09e39bf40>"
      ]
     },
     "execution_count": 473,
     "metadata": {},
     "output_type": "execute_result"
    },
    {
     "data": {
      "image/png": "[encoded data removed]",
      "text/plain": [
       "<Figure size 432x288 with 1 Axes>"
      ]
     },
     "metadata": {
      "needs_background": "light"
     },
     "output_type": "display_data"
    }
   ],
   "source": [
    "plt.scatter(x, y, s=5)"
   ]
  }
 ],
 "metadata": {
  "kernelspec": {
   "display_name": "Python 3 (ipykernel)",
   "language": "python",
   "name": "python3"
  },
  "language_info": {
   "codemirror_mode": {
    "name": "ipython",
    "version": 3
   },
   "file_extension": ".py",
   "mimetype": "text/x-python",
   "name": "python",
   "nbconvert_exporter": "python",
   "pygments_lexer": "ipython3",
   "version": "3.10.4"
  }
 },
 "nbformat": 4,
 "nbformat_minor": 4
}

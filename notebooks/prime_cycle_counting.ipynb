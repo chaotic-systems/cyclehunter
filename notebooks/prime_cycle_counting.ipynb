{
 "cells": [
  {
   "cell_type": "markdown",
   "id": "139f232c",
   "metadata": {},
   "source": [
    "# This is a first attempt "
   ]
  },
  {
   "cell_type": "markdown",
   "id": "e568325a-f0ba-4b91-aa65-b3a355da2536",
   "metadata": {},
   "source": [
    "# Prime cycles of length N with K symbols.\n",
    "\n",
    "Starts with an array of K symbols, and then recursively builts up the prime cycles. Basically just tacks on each symbol to every prime cycle of length N-1 and then checks\n",
    "for repeats. I think that that works if permutations aren't used to build up the cycles at any point."
   ]
  },
  {
   "cell_type": "code",
   "execution_count": 1,
   "id": "280eab9a",
   "metadata": {},
   "outputs": [],
   "source": [
    "import itertools\n",
    "from functools import lru_cache\n",
    "import numpy as np\n",
    "from scipy.special import comb\n",
    "import time"
   ]
  },
  {
   "cell_type": "code",
   "execution_count": 2,
   "id": "85e1b23d-2eee-4356-be53-c050d7005b73",
   "metadata": {},
   "outputs": [],
   "source": [
    "def n_prime_cycles(n, k):\n",
    "    if n == 1:\n",
    "        return k\n",
    "    elif n == 2:\n",
    "        return int(comb(k, 2))\n",
    "    else:\n",
    "        return int((1./n) * (k ** n - np.sum([n_prime_cycles(j, k) * j for j in range(1, n//2 + 1) if n % j == 0])))"
   ]
  },
  {
   "cell_type": "markdown",
   "id": "8f87dfc5",
   "metadata": {},
   "source": [
    "# Number of primes up to cyclic rotation\n",
    "\n",
    "$q(n+1, k) = \\frac{1}{n}(k^n - q(n, k) * k)$\n",
    "\n",
    "$q(n,k)$ is the number of primes of length $n$ with $k$ symbols \n",
    "\n",
    "The way primes are found: we start with a set of cycles and their doubles e.g. '100' and '100100'. All original cycles are compared with these doubled cycles; specifically we count whether the substring occurs in the doubled string. We collect all cycles which are contained in each double, e.g. 100, 010, 001 are in 100100. The originals are sorted, and the zeroth element is chosen to represent the group orbit; '001' in this case. \n",
    "\n",
    "This is done for all cycles, so '001' would actually be added three times via 100100, 010010 and 001001, therefore we must\n",
    "take only the unique results. \n"
   ]
  },
  {
   "cell_type": "code",
   "execution_count": 3,
   "id": "8c25f416",
   "metadata": {},
   "outputs": [],
   "source": [
    "n = 12\n",
    "k = 3\n",
    "states = [str(x) for x in range(k)]"
   ]
  },
  {
   "cell_type": "code",
   "execution_count": 4,
   "id": "840e341e-6b2b-4629-bf52-18829d6fbd10",
   "metadata": {},
   "outputs": [],
   "source": [
    "@lru_cache\n",
    "def prime_cycles(n, k):\n",
    "    \"\"\"\n",
    "    Returns prime cycles of k-ary symbolic dynamics; only quotients cyclic rotations and repeats  \n",
    "    \n",
    "    n : int \n",
    "        length of cycles\n",
    "    k : int\n",
    "        k-ary symbolic dynamics\n",
    "    cumulative : bool\n",
    "        If True then returns all prime cycles of length 1 up to length n\n",
    "    \n",
    "    \"\"\"\n",
    "    \n",
    "    \n",
    "    if n == 1:\n",
    "        return  [str(x) for x in range(k)]\n",
    "    if n == 2:\n",
    "        return [''.join(x) for x in list(itertools.combinations(prime_cycles(1, k), 2))] + prime_cycles(1, k)\n",
    "    else:\n",
    "\n",
    "        shorter_primes = prime_cycles(n-1, k)\n",
    "        all_states = np.concatenate([coord.ravel().reshape(-1, 1) \n",
    "                                     for coord in np.meshgrid(*(states for i in range(n)))], axis=1)\n",
    "        candidates = np.sum(np.array(all_states, dtype=object), axis=1)\n",
    "        doubles = np.array([2*x for x in candidates])\n",
    "        primes = []\n",
    "        for ci in candidates:\n",
    "            temp = np.char.find(doubles, ci)\n",
    "            where_matches = np.where(temp!=-1)\n",
    "            matches = candidates[where_matches]\n",
    "            primes.append(np.sort(matches)[0])\n",
    "        primes = np.unique(primes)\n",
    "        for each_shorter_prime in shorter_primes:\n",
    "            if (not (n % len(each_shorter_prime))) or len(each_shorter_prime) == 1:\n",
    "                counts = np.char.count(primes, each_shorter_prime)\n",
    "                lengths = counts * len(each_shorter_prime)\n",
    "                primes = primes[np.where(lengths != n)[0]]\n",
    "\n",
    "        print(f'For {n}-cycles: (N initial states, N results, N primes)={len(candidates), len(primes),  n_prime_cycles(n, k)}; if correct then '\n",
    "              f'N results == N primes')\n",
    "        return np.concatenate((primes, shorter_primes))"
   ]
  },
  {
   "cell_type": "code",
   "execution_count": 5,
   "id": "5376c8df",
   "metadata": {},
   "outputs": [
    {
     "name": "stdout",
     "output_type": "stream",
     "text": [
      "For 3-cycles: (N initial states, N results, N primes)=(27, 8, 8); if correct then N results == N primes\n",
      "For 4-cycles: (N initial states, N results, N primes)=(81, 18, 18); if correct then N results == N primes\n",
      "For 5-cycles: (N initial states, N results, N primes)=(243, 48, 48); if correct then N results == N primes\n",
      "For 6-cycles: (N initial states, N results, N primes)=(729, 116, 116); if correct then N results == N primes\n",
      "For 7-cycles: (N initial states, N results, N primes)=(2187, 312, 312); if correct then N results == N primes\n",
      "For 8-cycles: (N initial states, N results, N primes)=(6561, 810, 810); if correct then N results == N primes\n",
      "For 9-cycles: (N initial states, N results, N primes)=(19683, 2184, 2184); if correct then N results == N primes\n",
      "It tooks 152.65200066566467 seconds to compute all prime cycles up to length 9 with 3 symbols\n"
     ]
    }
   ],
   "source": [
    "n, k = 9, 3\n",
    "t0 = time.time_ns()/10**9\n",
    "cycles = prime_cycles(n, k)\n",
    "t1 = time.time_ns()/10**9\n",
    "print(f'It tooks {t1-t0} seconds to compute all prime cycles up to length {n} with {k} symbols')"
   ]
  }
 ],
 "metadata": {
  "kernelspec": {
   "display_name": "Python 3 (ipykernel)",
   "language": "python",
   "name": "python3"
  },
  "language_info": {
   "codemirror_mode": {
    "name": "ipython",
    "version": 3
   },
   "file_extension": ".py",
   "mimetype": "text/x-python",
   "name": "python",
   "nbconvert_exporter": "python",
   "pygments_lexer": "ipython3",
   "version": "3.10.4"
  }
 },
 "nbformat": 4,
 "nbformat_minor": 5
}

{
 "cells": [
  {
   "cell_type": "code",
   "execution_count": 1,
   "id": "2825de74",
   "metadata": {},
   "outputs": [],
   "source": [
    "def rotate(A):\n",
    "    x = A[len(A) - 1]\n",
    "    for i in range(len(A) - 1, 0, -1):\n",
    "        A[i] = A[i - 1];\n",
    "        A[0] = x;\n",
    "    return A\n",
    "\n",
    "\n",
    "def checkCyclic(A, B):\n",
    "    \"\"\" Checks if two orbits are members of the same group orbit\n",
    "    \n",
    "    A: \n",
    "    \n",
    "    \"\"\"\n",
    "    return ', '.join(map(str, A)) in ', '.join(map(str, B)) \n",
    "\n",
    "def primeOrbits(initial_conditions, check_neg, check_rev): \n",
    "    #initial conditions should be you entire list of possible shadow state configurations\n",
    "    #check_neg is a value that takes either 1 or 0 where if it is 1, it will check for phi to negative phi symmetry\n",
    "    initial_conditions[initial_conditions == 1] = 3\n",
    "    initial_conditions[initial_conditions == 0] = 2\n",
    "    initial_conditions[initial_conditions == -1] = 1\n",
    "    # here i am just changing my shadow state values to a different symbolic alphabet that will work better\n",
    "    double_cycles = np.append(initial_conditions,initial_conditions,axis=1)\n",
    "    # double_cycles is each shadow state repeated so that it is twice its length. This is used show checking for cyclic\n",
    "    # permutations as every permunation exists in the orbit as if it goes through it twice. Ex: all cyclic permutation of 123 \n",
    "    # exist somwhere in 123123\n",
    "    i = 0\n",
    "    while i < np.shape(initial_conditions)[0]: #looping through each row of the initial conditions\n",
    "        j = np.shape(initial_conditions)[0] - 1\n",
    "        while j > i: #looping rows of double_cycles, starting at the bottomw and ending before the row of the current \n",
    "                     #orbit we are checking\n",
    "            if checkCyclic(initial_conditions[i],double_cycles[j]) == True:\n",
    "                initial_conditions = np.delete(initial_conditions, j, 0) \n",
    "                double_cycles = np.delete(double_cycles, j, 0)    # if a orbit string exists in the double_cycle of of another\n",
    "            j = j - 1                                             # orbit, delete one of the orbits\n",
    "        i = i + 1\n",
    "    if check_neg == 1:\n",
    "        initial_conditions[initial_conditions == 1] = -1 #if we want to check if cycles are just negatives of another cycle\n",
    "        initial_conditions[initial_conditions == 2] = 0\n",
    "        initial_conditions[initial_conditions == 3] = 1\n",
    "        initial_conditions = initial_conditions*(-1)     # have to first convert to shadow states in order to apply negative\n",
    "        initial_conditions[initial_conditions == 1] = 3  # sign to states, then convert back the the 1 2 3 alphabet\n",
    "        initial_conditions[initial_conditions == 0] = 2\n",
    "        initial_conditions[initial_conditions == -1] = 1\n",
    "        i = 0\n",
    "        while i < np.shape(initial_conditions)[0]:\n",
    "            j = np.shape(initial_conditions)[0] - 1\n",
    "            while j > i:\n",
    "                if checkCyclic(initial_conditions[i],double_cycles[j]) == True:\n",
    "                    initial_conditions = np.delete(initial_conditions, j, 0)    # does the same process as before but for \n",
    "                    double_cycles = np.delete(double_cycles, j, 0)              # the comparing the negatives of the orbits\n",
    "                j = j - 1                                                       # to the double cycles\n",
    "            i = i + 1\n",
    "        initial_conditions[initial_conditions == 1] = -1\n",
    "        initial_conditions[initial_conditions == 2] = 0\n",
    "        initial_conditions[initial_conditions == 3] = 1\n",
    "        initial_conditions = initial_conditions*(-1)\n",
    "        initial_conditions[initial_conditions == 1] = 3\n",
    "        initial_conditions[initial_conditions == 0] = 2\n",
    "        initial_conditions[initial_conditions == -1] = 1\n",
    "    if check_rev == 1:\n",
    "        initial_conditions = initial_conditions[...,::-1]\n",
    "        i = 0\n",
    "        while i < np.shape(initial_conditions)[0]:\n",
    "            j = np.shape(initial_conditions)[0] - 1\n",
    "            while j > i:\n",
    "                if checkCyclic(initial_conditions[i],double_cycles[j]) == True:\n",
    "                    initial_conditions = np.delete(initial_conditions, j, 0)\n",
    "                    double_cycles = np.delete(double_cycles, j, 0)\n",
    "                j = j - 1\n",
    "            i = i + 1\n",
    "    copy_of_reversed_initial = initial_conditions.copy()\n",
    "    i = 0\n",
    "    del_array = np.zeros(np.shape(initial_conditions)[0])\n",
    "    while i < np.shape(initial_conditions)[0]:\n",
    "        j = 1\n",
    "        while j <= np.shape(initial_conditions)[1] - 1:\n",
    "            rotate(copy_of_reversed_initial[i])\n",
    "            if checkCyclic(copy_of_reversed_initial[i],initial_conditions[i]) == True:\n",
    "                del_array[i] = 1\n",
    "            j = j + 1\n",
    "        i = i + 1\n",
    "        \n",
    "    initial_conditions = np.delete(initial_conditions, np.where(del_array == 1), 0)\n",
    "    \n",
    "    initial_conditions[initial_conditions == 1] = -1\n",
    "    initial_conditions[initial_conditions == 2] = 0\n",
    "    initial_conditions[initial_conditions == 3] = 1\n",
    "\n",
    "    return initial_conditions"
   ]
  },
  {
   "cell_type": "code",
   "execution_count": 27,
   "id": "9e00d849",
   "metadata": {},
   "outputs": [],
   "source": [
    "# def mattscheckCyclic(A, B):\n",
    "#     \"\"\" Checks if two orbits are members of the same group orbit\n",
    "#\n",
    "#     A:\n",
    "#\n",
    "#     \"\"\"\n",
    "#     return ', '.join(map(str, A)) in ', '.join(map(str, B))\n",
    "\n",
    "def mattsprimeOrbits(initial_conditions, check_neg, check_rev):\n",
    "    #initial conditions should be you entire list of possible shadow state configurations\n",
    "    #check_neg is a value that takes either 1 or 0 where if it is 1, it will check for phi to negative phi symmetry\n",
    "    if -1 in np.unique(initial_conditions):\n",
    "        initial_conditions += 2\n",
    "    # here i am just changing my shadow state values to a different symbolic alphabet that will work better\n",
    "    double_cycles = np.append(initial_conditions,initial_conditions,axis=1)\n",
    "    # double_cycles is each shadow state repeated so that it is twice its length. This is used show checking for cyclic\n",
    "    # permutations as every permunation exists in the orbit as if it goes through it twice. Ex: all cyclic permutation of 123\n",
    "    # exist somwhere in 123123\n",
    "    i = 0\n",
    "    while i < np.shape(initial_conditions)[0]: #looping through each row of the initial conditions\n",
    "        j = np.shape(initial_conditions)[0] - 1\n",
    "        while j > i: #looping rows of double_cycles, starting at the bottomw and ending before the row of the current \n",
    "                     #orbit we are checking\n",
    "            if checkCyclic(initial_conditions[i],double_cycles[j]) == True:\n",
    "                initial_conditions = np.delete(initial_conditions, j, 0) \n",
    "                double_cycles = np.delete(double_cycles, j, 0)    # if a orbit string exists in the double_cycle of of another\n",
    "            j = j - 1                                             # orbit, delete one of the orbits\n",
    "        i = i + 1\n",
    "    if check_neg == 1:\n",
    "        initial_conditions = -1 * (initial_conditions % -4)\n",
    "        i = 0\n",
    "        while i < np.shape(initial_conditions)[0]:\n",
    "            j = np.shape(initial_conditions)[0] - 1\n",
    "            while j > i:\n",
    "                if checkCyclic(initial_conditions[i],double_cycles[j]) == True:\n",
    "                    initial_conditions = np.delete(initial_conditions, j, 0)    # does the same process as before but for \n",
    "                    double_cycles = np.delete(double_cycles, j, 0)              # the comparing the negatives of the orbits\n",
    "                j = j - 1                                                       # to the double cycles\n",
    "            i = i + 1\n",
    "        initial_conditions = -1 * (initial_conditions % -4)\n",
    "    if check_rev == 1:\n",
    "        initial_conditions = initial_conditions[...,::-1]\n",
    "        i = 0\n",
    "        while i < np.shape(initial_conditions)[0]:\n",
    "            j = np.shape(initial_conditions)[0] - 1\n",
    "            while j > i:\n",
    "                if checkCyclic(initial_conditions[i],double_cycles[j]) == True:\n",
    "                    initial_conditions = np.delete(initial_conditions, j, 0)\n",
    "                    double_cycles = np.delete(double_cycles, j, 0)\n",
    "                j = j - 1\n",
    "            i = i + 1\n",
    "    copy_of_reversed_initial = initial_conditions.copy()\n",
    "    i = 0\n",
    "    del_array = np.zeros(np.shape(initial_conditions)[0])\n",
    "    while i < np.shape(initial_conditions)[0]:\n",
    "        j = 1\n",
    "        while j <= np.shape(initial_conditions)[1] - 1:\n",
    "            copy_of_reversed_initial[i] = np.roll(copy_of_reversed_initial[i], 1)\n",
    "            if checkCyclic(copy_of_reversed_initial[i], initial_conditions[i]) == True:\n",
    "                del_array[i] = 1\n",
    "            j = j + 1\n",
    "        i = i + 1\n",
    "        \n",
    "    initial_conditions = np.delete(initial_conditions, np.where(del_array == 1), 0)\n",
    "    initial_conditions -= 2\n",
    "    return initial_conditions"
   ]
  },
  {
   "cell_type": "code",
   "execution_count": 4,
   "id": "d3efb596",
   "metadata": {},
   "outputs": [],
   "source": [
    "import numpy as np"
   ]
  },
  {
   "cell_type": "code",
   "execution_count": 5,
   "id": "dfa0ccad",
   "metadata": {},
   "outputs": [],
   "source": [
    "import itertools"
   ]
  },
  {
   "cell_type": "code",
   "execution_count": 8,
   "id": "506756a4",
   "metadata": {},
   "outputs": [],
   "source": [
    "states = [-1, 0, 1]"
   ]
  },
  {
   "cell_type": "code",
   "execution_count": 9,
   "id": "f28d5320",
   "metadata": {},
   "outputs": [],
   "source": [
    "n = 9"
   ]
  },
  {
   "cell_type": "code",
   "execution_count": 10,
   "id": "a77b1fd9",
   "metadata": {},
   "outputs": [],
   "source": [
    "\n",
    "# initial_conditions2 = initial_conditions.copy()"
   ]
  },
  {
   "cell_type": "code",
   "execution_count": 11,
   "id": "1851a6fc",
   "metadata": {},
   "outputs": [],
   "source": [
    "import time\n"
   ]
  },
  {
   "cell_type": "code",
   "execution_count": 15,
   "id": "5186cdea",
   "metadata": {},
   "outputs": [
    {
     "name": "stdout",
     "output_type": "stream",
     "text": [
      "19683 (460, 9)\n",
      "177.9800488948822\n"
     ]
    }
   ],
   "source": [
    "initial_conditions = np.array(list(itertools.product(*tuple(states for i in range(9)))))\n",
    "initshape = len(initial_conditions)\n",
    "t0 = time.time_ns()/10**9\n",
    "primes = primeOrbits(initial_conditions, True, True)\n",
    "t1 = time.time_ns()/10**9\n",
    "print(initshape, primes.shape)\n",
    "print(t1-t0)"
   ]
  },
  {
   "cell_type": "code",
   "execution_count": 18,
   "id": "f2f13b8c",
   "metadata": {},
   "outputs": [],
   "source": [
    "states = primes+2"
   ]
  },
  {
   "cell_type": "code",
   "execution_count": 19,
   "id": "43a89405",
   "metadata": {},
   "outputs": [],
   "source": [
    "symbols = np.sort(np.array(states.astype(str), dtype=object).sum(axis=1))\n"
   ]
  },
  {
   "cell_type": "code",
   "execution_count": 22,
   "id": "944b6c5e",
   "metadata": {},
   "outputs": [],
   "source": [
    "from cyclehunter import *"
   ]
  },
  {
   "cell_type": "code",
   "execution_count": 25,
   "id": "f1fd47f0",
   "metadata": {},
   "outputs": [],
   "source": [
    "x = PhiK(9, 3, 5)"
   ]
  },
  {
   "cell_type": "code",
   "execution_count": 26,
   "id": "83717f98",
   "metadata": {},
   "outputs": [],
   "source": [
    "p = x.generate_states(prime=True)"
   ]
  },
  {
   "cell_type": "code",
   "execution_count": 29,
   "id": "b361988a",
   "metadata": {},
   "outputs": [
    {
     "data": {
      "text/plain": [
       "(599, 9)"
      ]
     },
     "execution_count": 29,
     "metadata": {},
     "output_type": "execute_result"
    }
   ],
   "source": [
    "p.states.shape"
   ]
  },
  {
   "cell_type": "code",
   "execution_count": 30,
   "id": "4cd05f2a",
   "metadata": {},
   "outputs": [
    {
     "data": {
      "text/plain": [
       "(460, 9)"
      ]
     },
     "execution_count": 30,
     "metadata": {},
     "output_type": "execute_result"
    }
   ],
   "source": [
    "primes.shape"
   ]
  },
  {
   "cell_type": "code",
   "execution_count": 31,
   "id": "c237d1d8",
   "metadata": {},
   "outputs": [],
   "source": [
    "import matplotlib.pyplot as plt"
   ]
  },
  {
   "cell_type": "code",
   "execution_count": 32,
   "id": "dfdf5261",
   "metadata": {},
   "outputs": [
    {
     "data": {
      "text/plain": [
       "<matplotlib.collections.PathCollection at 0x1db63e25570>"
      ]
     },
     "execution_count": 32,
     "metadata": {},
     "output_type": "execute_result"
    },
    {
     "data": {
      "image/png": "[encoded data removed]",
      "text/plain": [
       "<Figure size 432x288 with 1 Axes>"
      ]
     },
     "metadata": {
      "needs_background": "light"
     },
     "output_type": "display_data"
    }
   ],
   "source": [
    "plt.scatter(primes[:, 0], primes[:, 1])"
   ]
  },
  {
   "cell_type": "code",
   "execution_count": 34,
   "id": "4d6dc05c",
   "metadata": {},
   "outputs": [
    {
     "data": {
      "text/plain": [
       "<matplotlib.collections.PathCollection at 0x1db65f6c460>"
      ]
     },
     "execution_count": 34,
     "metadata": {},
     "output_type": "execute_result"
    },
    {
     "data": {
      "image/png": "[encoded data removed]",
      "text/plain": [
       "<Figure size 432x288 with 1 Axes>"
      ]
     },
     "metadata": {
      "needs_background": "light"
     },
     "output_type": "display_data"
    }
   ],
   "source": [
    "plt.scatter(p.states[:, 0], p.states[:, 1])"
   ]
  },
  {
   "cell_type": "code",
   "execution_count": 8,
   "id": "78997866",
   "metadata": {},
   "outputs": [
    {
     "data": {
      "text/plain": [
       "array([[ 0, -1, -1],\n",
       "       [ 1, -1, -1],\n",
       "       [ 0,  0, -1],\n",
       "       [ 1,  0, -1]])"
      ]
     },
     "execution_count": 8,
     "metadata": {},
     "output_type": "execute_result"
    }
   ],
   "source": [
    "mattsprimeOrbits(initial_conditions2, True, True)"
   ]
  }
 ],
 "metadata": {
  "kernelspec": {
   "display_name": "Python 3 (ipykernel)",
   "language": "python",
   "name": "python3"
  },
  "language_info": {
   "codemirror_mode": {
    "name": "ipython",
    "version": 3
   },
   "file_extension": ".py",
   "mimetype": "text/x-python",
   "name": "python",
   "nbconvert_exporter": "python",
   "pygments_lexer": "ipython3",
   "version": "3.10.4"
  }
 },
 "nbformat": 4,
 "nbformat_minor": 5
}